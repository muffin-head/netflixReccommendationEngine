{
 "cells": [
  {
   "cell_type": "markdown",
   "metadata": {
    "colab_type": "text",
    "id": "view-in-github"
   },
   "source": [
    "<a href=\"https://colab.research.google.com/github/muffin-head/netflixReccommendationEngine/blob/main/netflixReccommendationEngine.ipynb\" target=\"_parent\"><img src=\"https://colab.research.google.com/assets/colab-badge.svg\" alt=\"Open In Colab\"/></a>"
   ]
  },
  {
   "cell_type": "code",
   "execution_count": 3,
   "metadata": {
    "id": "wsW0RhPCHeUV"
   },
   "outputs": [],
   "source": [
    "from datetime import datetime\n",
    "import pandas as pd\n",
    "import numpy as np\n",
    "import matplotlib\n",
    "matplotlib.use('nbagg')\n",
    "import matplotlib.pyplot as plt\n",
    "plt.rcParams.update({'figure.max_open_warning':0})\n",
    "import seaborn as sns\n",
    "sns.set_style('whitegrid')\n",
    "import os\n",
    "from scipy import sparse\n",
    "from scipy.sparse import csr_matrix\n",
    "from sklearn.decomposition import TruncatedSVD\n",
    "from sklearn.metrics.pairwise import cosine_similarity\n",
    "import random"
   ]
  },
  {
   "cell_type": "code",
   "execution_count": 2,
   "metadata": {},
   "outputs": [
    {
     "name": "stdout",
     "output_type": "stream",
     "text": [
      "Defaulting to user installation because normal site-packages is not writeable"
     ]
    },
    {
     "name": "stderr",
     "output_type": "stream",
     "text": [
      "DEPRECATION: Loading egg at c:\\program files\\python311\\lib\\site-packages\\vboxapi-1.0-py3.11.egg is deprecated. pip 23.3 will enforce this behaviour change. A possible replacement is to use pip for package installation..\n",
      "\n",
      "[notice] A new release of pip is available: 23.2.1 -> 24.0\n",
      "[notice] To update, run: python.exe -m pip install --upgrade pip\n"
     ]
    },
    {
     "name": "stdout",
     "output_type": "stream",
     "text": [
      "\n",
      "Collecting scikit-learn\n",
      "  Obtaining dependency information for scikit-learn from https://files.pythonhosted.org/packages/a8/e9/3e4879974a7c4dcaca2a746dde3df08d0ae8f14c74b03591616ce5f0a8b1/scikit_learn-1.4.0-1-cp311-cp311-win_amd64.whl.metadata\n",
      "  Downloading scikit_learn-1.4.0-1-cp311-cp311-win_amd64.whl.metadata (11 kB)\n",
      "Requirement already satisfied: numpy<2.0,>=1.19.5 in c:\\program files\\python311\\lib\\site-packages (from scikit-learn) (1.25.0)\n",
      "Requirement already satisfied: scipy>=1.6.0 in c:\\program files\\python311\\lib\\site-packages (from scikit-learn) (1.10.1)\n",
      "Collecting joblib>=1.2.0 (from scikit-learn)\n",
      "  Obtaining dependency information for joblib>=1.2.0 from https://files.pythonhosted.org/packages/10/40/d551139c85db202f1f384ba8bcf96aca2f329440a844f924c8a0040b6d02/joblib-1.3.2-py3-none-any.whl.metadata\n",
      "  Downloading joblib-1.3.2-py3-none-any.whl.metadata (5.4 kB)\n",
      "Collecting threadpoolctl>=2.0.0 (from scikit-learn)\n",
      "  Obtaining dependency information for threadpoolctl>=2.0.0 from https://files.pythonhosted.org/packages/81/12/fd4dea011af9d69e1cad05c75f3f7202cdcbeac9b712eea58ca779a72865/threadpoolctl-3.2.0-py3-none-any.whl.metadata\n",
      "  Downloading threadpoolctl-3.2.0-py3-none-any.whl.metadata (10.0 kB)\n",
      "Downloading scikit_learn-1.4.0-1-cp311-cp311-win_amd64.whl (10.6 MB)\n",
      "   ---------------------------------------- 0.0/10.6 MB ? eta -:--:--\n",
      "   --- ------------------------------------ 0.8/10.6 MB 17.8 MB/s eta 0:00:01\n",
      "   ------- -------------------------------- 1.9/10.6 MB 20.5 MB/s eta 0:00:01\n",
      "   ----------- ---------------------------- 3.0/10.6 MB 21.2 MB/s eta 0:00:01\n",
      "   -------------- ------------------------- 3.9/10.6 MB 23.0 MB/s eta 0:00:01\n",
      "   ------------------- -------------------- 5.1/10.6 MB 21.6 MB/s eta 0:00:01\n",
      "   ----------------------- ---------------- 6.2/10.6 MB 23.3 MB/s eta 0:00:01\n",
      "   --------------------------- ------------ 7.4/10.6 MB 22.5 MB/s eta 0:00:01\n",
      "   -------------------------------- ------- 8.5/10.6 MB 23.7 MB/s eta 0:00:01\n",
      "   ------------------------------------ --- 9.6/10.6 MB 23.7 MB/s eta 0:00:01\n",
      "   ---------------------------------------  10.6/10.6 MB 24.2 MB/s eta 0:00:01\n",
      "   ---------------------------------------- 10.6/10.6 MB 21.8 MB/s eta 0:00:00\n",
      "Downloading joblib-1.3.2-py3-none-any.whl (302 kB)\n",
      "   ---------------------------------------- 0.0/302.2 kB ? eta -:--:--\n",
      "   ---------------------------------------- 302.2/302.2 kB ? eta 0:00:00\n",
      "Downloading threadpoolctl-3.2.0-py3-none-any.whl (15 kB)\n",
      "Installing collected packages: threadpoolctl, joblib, scikit-learn\n",
      "Successfully installed joblib-1.3.2 scikit-learn-1.4.0 threadpoolctl-3.2.0\n"
     ]
    }
   ],
   "source": [
    "!pip install scikit-learn"
   ]
  },
  {
   "cell_type": "code",
   "execution_count": 4,
   "metadata": {
    "colab": {
     "base_uri": "https://localhost:8080/"
    },
    "id": "jAXphxo3Isb0",
    "outputId": "97c2257a-3333-4f4a-9c09-c8df587a87a4"
   },
   "outputs": [
    {
     "ename": "ModuleNotFoundError",
     "evalue": "No module named 'google.colab'",
     "output_type": "error",
     "traceback": [
      "\u001b[1;31m---------------------------------------------------------------------------\u001b[0m",
      "\u001b[1;31mModuleNotFoundError\u001b[0m                       Traceback (most recent call last)",
      "Cell \u001b[1;32mIn[4], line 1\u001b[0m\n\u001b[1;32m----> 1\u001b[0m \u001b[38;5;28;01mfrom\u001b[39;00m \u001b[38;5;21;01mgoogle\u001b[39;00m\u001b[38;5;21;01m.\u001b[39;00m\u001b[38;5;21;01mcolab\u001b[39;00m \u001b[38;5;28;01mimport\u001b[39;00m drive\n\u001b[0;32m      2\u001b[0m drive\u001b[38;5;241m.\u001b[39mmount(\u001b[38;5;124m'\u001b[39m\u001b[38;5;124mdrive\u001b[39m\u001b[38;5;124m'\u001b[39m)\n",
      "\u001b[1;31mModuleNotFoundError\u001b[0m: No module named 'google.colab'"
     ]
    }
   ],
   "source": [
    "from google.colab import drive\n",
    "drive.mount('drive')"
   ]
  },
  {
   "cell_type": "code",
   "execution_count": 7,
   "metadata": {
    "colab": {
     "base_uri": "https://localhost:8080/"
    },
    "id": "nJledO11K-Xg",
    "outputId": "d5454120-4434-4c67-d194-b5f712e19154"
   },
   "outputs": [
    {
     "name": "stdout",
     "output_type": "stream",
     "text": [
      "Reading ratings from C:/study/Case Study 9/archive/combined_data_1.txt...\n",
      "Done.\n",
      "\n",
      "Reading ratings from C:/study/Case Study 9/archive/combined_data_2.txt...\n",
      "Done.\n",
      "\n",
      "Reading ratings from C:/study/Case Study 9/archive/combined_data_3.txt...\n",
      "Done.\n",
      "\n",
      "Reading ratings from C:/study/Case Study 9/archive/combined_data_4.txt...\n",
      "Done.\n",
      "\n",
      "Time taken : 0:05:56.922574\n"
     ]
    }
   ],
   "source": [
    "start = datetime.now()\n",
    "\n",
    "# Create a file 'data.csv' before reading it\n",
    "# Read all the files in netflix and store them in one big file('data.csv')\n",
    "# We re reading from each of the four files and appendig each rating to a global file 'train.csv'\n",
    "data = open('data.csv', mode='w')\n",
    "\n",
    "row = list()\n",
    "files=[\"C:/study/Case Study 9/archive/combined_data_1.txt\",\"C:/study/Case Study 9/archive/combined_data_2.txt\",\"C:/study/Case Study 9/archive/combined_data_3.txt\",\"C:/study/Case Study 9/archive/combined_data_4.txt\"]\n",
    "\n",
    "for file in files:\n",
    "    print(\"Reading ratings from {}...\".format(file))\n",
    "    with open(file) as f:\n",
    "        for line in f:\n",
    "            line = line.strip()\n",
    "            if line.endswith(':'):\n",
    "                # All below are ratings for this movie, until another movie appears.\n",
    "                movie_id = line.replace(':', '')\n",
    "            else:\n",
    "                row = [x for x in line.split(',')]\n",
    "                row.insert(0, movie_id)\n",
    "                data.write(','.join(row))\n",
    "                data.write('\\n')\n",
    "    print(\"Done.\\n\")\n",
    "data.close()\n",
    "print('Time taken :', datetime.now() - start)"
   ]
  },
  {
   "cell_type": "code",
   "execution_count": 8,
   "metadata": {
    "id": "ZEVq0HKcPEPW"
   },
   "outputs": [],
   "source": [
    "dataframe=pd.read_csv('data.csv',sep=',',names=['movie','user','rating','date'])\n",
    "\n"
   ]
  },
  {
   "cell_type": "code",
   "execution_count": 9,
   "metadata": {
    "id": "dDYwLCLDevsY"
   },
   "outputs": [],
   "source": [
    "dataframe.date=pd.to_datetime(dataframe.date)\n",
    "dataframe.sort_values(by='date', inplace=True)\n"
   ]
  },
  {
   "cell_type": "code",
   "execution_count": 10,
   "metadata": {
    "id": "0Jk51MO7fPPI"
   },
   "outputs": [
    {
     "name": "stdout",
     "output_type": "stream",
     "text": [
      "0\n",
      "56431994    False\n",
      "9056171     False\n",
      "58698779    False\n",
      "48101611    False\n",
      "81893208    False\n",
      "            ...  \n",
      "49939086    False\n",
      "42072268    False\n",
      "47098649    False\n",
      "55621336    False\n",
      "25464092    False\n",
      "Length: 100480507, dtype: bool\n",
      "100480507\n"
     ]
    }
   ],
   "source": [
    "print(sum(dataframe.isnull().any()))\n",
    "print(dataframe.duplicated(['movie','user','rating','date']))\n",
    "np.unique(dataframe['movie'])\n",
    "np.unique(dataframe['user'])\n",
    "np.unique(dataframe['date'])\n",
    "print(dataframe.shape[0])"
   ]
  },
  {
   "cell_type": "code",
   "execution_count": 11,
   "metadata": {
    "id": "pqjGIG4GfSFL"
   },
   "outputs": [],
   "source": [
    "\n",
    "if not os.path.isfile('train.csv'):\n",
    "  dataframe.iloc[:int(dataframe.shape[0]*0.80)].to_csv('train.csv',index=False)\n",
    "if not os.path.isfile('test.csv'):\n",
    "  dataframe.iloc[int(dataframe.shape[0]* 0.80):].to_csv('test.csv',index=False)"
   ]
  },
  {
   "cell_type": "code",
   "execution_count": 13,
   "metadata": {
    "colab": {
     "base_uri": "https://localhost:8080/",
     "height": 358
    },
    "id": "_1E3vDRgjbkz",
    "outputId": "28bd286d-5aa6-4b3d-af3d-878e04b53b9d"
   },
   "outputs": [],
   "source": [
    "train_df=pd.read_csv('train.csv',parse_dates=['date'])\n",
    "test_df=pd.read_csv('test.csv')"
   ]
  },
  {
   "cell_type": "code",
   "execution_count": 14,
   "metadata": {
    "colab": {
     "base_uri": "https://localhost:8080/",
     "height": 206
    },
    "id": "Vm1OdY1xlsgZ",
    "outputId": "98a040f6-96ba-4c41-f7c0-9911c0353c55"
   },
   "outputs": [
    {
     "data": {
      "text/html": [
       "<div>\n",
       "<style scoped>\n",
       "    .dataframe tbody tr th:only-of-type {\n",
       "        vertical-align: middle;\n",
       "    }\n",
       "\n",
       "    .dataframe tbody tr th {\n",
       "        vertical-align: top;\n",
       "    }\n",
       "\n",
       "    .dataframe thead th {\n",
       "        text-align: right;\n",
       "    }\n",
       "</style>\n",
       "<table border=\"1\" class=\"dataframe\">\n",
       "  <thead>\n",
       "    <tr style=\"text-align: right;\">\n",
       "      <th></th>\n",
       "      <th>movie</th>\n",
       "      <th>user</th>\n",
       "      <th>rating</th>\n",
       "      <th>date</th>\n",
       "    </tr>\n",
       "  </thead>\n",
       "  <tbody>\n",
       "    <tr>\n",
       "      <th>0</th>\n",
       "      <td>10341</td>\n",
       "      <td>510180</td>\n",
       "      <td>4</td>\n",
       "      <td>1999-11-11</td>\n",
       "    </tr>\n",
       "    <tr>\n",
       "      <th>1</th>\n",
       "      <td>1798</td>\n",
       "      <td>510180</td>\n",
       "      <td>5</td>\n",
       "      <td>1999-11-11</td>\n",
       "    </tr>\n",
       "    <tr>\n",
       "      <th>2</th>\n",
       "      <td>10774</td>\n",
       "      <td>510180</td>\n",
       "      <td>3</td>\n",
       "      <td>1999-11-11</td>\n",
       "    </tr>\n",
       "    <tr>\n",
       "      <th>3</th>\n",
       "      <td>8651</td>\n",
       "      <td>510180</td>\n",
       "      <td>2</td>\n",
       "      <td>1999-11-11</td>\n",
       "    </tr>\n",
       "    <tr>\n",
       "      <th>4</th>\n",
       "      <td>14660</td>\n",
       "      <td>510180</td>\n",
       "      <td>2</td>\n",
       "      <td>1999-11-11</td>\n",
       "    </tr>\n",
       "  </tbody>\n",
       "</table>\n",
       "</div>"
      ],
      "text/plain": [
       "   movie    user  rating       date\n",
       "0  10341  510180       4 1999-11-11\n",
       "1   1798  510180       5 1999-11-11\n",
       "2  10774  510180       3 1999-11-11\n",
       "3   8651  510180       2 1999-11-11\n",
       "4  14660  510180       2 1999-11-11"
      ]
     },
     "execution_count": 14,
     "metadata": {},
     "output_type": "execute_result"
    }
   ],
   "source": [
    "train_df.head()"
   ]
  },
  {
   "cell_type": "code",
   "execution_count": 15,
   "metadata": {
    "colab": {
     "base_uri": "https://localhost:8080/"
    },
    "id": "Hcz8OPcimRA4",
    "outputId": "2d402d64-53d9-4bd5-fbec-0c4913672248"
   },
   "outputs": [
    {
     "data": {
      "text/plain": [
       "(80384405, 4)"
      ]
     },
     "execution_count": 15,
     "metadata": {},
     "output_type": "execute_result"
    }
   ],
   "source": [
    "train_df.shape"
   ]
  },
  {
   "cell_type": "markdown",
   "metadata": {
    "id": "ScnRN8CzAPy1"
   },
   "source": [
    "# Find out how often rating are given by a user"
   ]
  },
  {
   "cell_type": "code",
   "execution_count": 33,
   "metadata": {
    "id": "CGjcEDApLKvy"
   },
   "outputs": [],
   "source": [
    "# method to make y-axis more readable\n",
    "def human(num, units = 'M'):\n",
    "    units = units.lower()\n",
    "    num = float(num)\n",
    "    if units == 'k':\n",
    "        return str(num/10**3) + \" K\"\n",
    "    elif units == 'm':\n",
    "        return str(num/10**6) + \" M\"\n",
    "    elif units == 'b':\n",
    "        return str(num/10**9) +  \" B\""
   ]
  },
  {
   "cell_type": "code",
   "execution_count": 32,
   "metadata": {
    "colab": {
     "base_uri": "https://localhost:8080/",
     "height": 17
    },
    "id": "QVX_zAPeAPlD",
    "outputId": "c488d4e7-b94d-463a-b145-b5b54551fe78"
   },
   "outputs": [
    {
     "data": {
      "image/png": "[encoded data removed]",
      "text/plain": [
       "<Figure size 640x480 with 1 Axes>"
      ]
     },
     "metadata": {},
     "output_type": "display_data"
    }
   ],
   "source": [
    "%matplotlib inline\n",
    "import matplotlib.ticker as mticker\n",
    "fig, ax = plt.subplots()\n",
    "plt.title('Distribution of ratings over Training dataset', fontsize=15)\n",
    "sns.countplot(train_df.rating)\n",
    "y_ticks=ax.get_yticks()\n",
    "ax.yaxis.set_major_locator(mticker.FixedLocator(y_ticks))\n",
    "ax.set_yticklabels([human(item, 'M') for item in y_ticks ])\n",
    "ax.set_ylabel('No. of Ratings(Millions)')\n",
    "plt.show()"
   ]
  },
  {
   "cell_type": "code",
   "execution_count": 38,
   "metadata": {
    "id": "_nH8xQeOHhLF"
   },
   "outputs": [
    {
     "data": {
      "image/png": "[encoded data removed]",
      "text/plain": [
       "<Figure size 640x480 with 1 Axes>"
      ]
     },
     "metadata": {},
     "output_type": "display_data"
    }
   ],
   "source": [
    "import matplotlib.pyplot as plt\n",
    "import seaborn as sns\n",
    "import pandas as pd\n",
    "import numpy as np\n",
    "import matplotlib.ticker as ticker\n",
    "\n",
    "# Assuming train_df is your DataFrame and it has a column 'rating'\n",
    "\n",
    "# Calculate rating counts manually\n",
    "rating_counts = train_df['rating'].value_counts().sort_index()\n",
    "fig, ax = plt.subplots()\n",
    "plt.title('Distribution of Ratings over Training Dataset', fontsize=15)\n",
    "ax.bar(rating_counts.index, rating_counts.values)\n",
    "y_ticks = ax.get_yticks()\n",
    "ax.yaxis.set_major_formatter(ticker.FuncFormatter(lambda x, _: human(x, 'M')))\n",
    "x.set_ylabel('Number of Ratings (Millions)')\n",
    "ax.set_xticks(range(1, 6))\n",
    "ax.set_xticklabels([str(i) for i in range(1, 6)])\n",
    "\n",
    "plt.show()\n"
   ]
  },
  {
   "cell_type": "code",
   "execution_count": null,
   "metadata": {},
   "outputs": [],
   "source": []
  }
 ],
 "metadata": {
  "colab": {
   "authorship_tag": "ABX9TyOIyWA/gcu7/pja+pvMLsYz",
   "include_colab_link": true,
   "provenance": []
  },
  "kernelspec": {
   "display_name": "Python 3 (ipykernel)",
   "language": "python",
   "name": "python3"
  },
  "language_info": {
   "codemirror_mode": {
    "name": "ipython",
    "version": 3
   },
   "file_extension": ".py",
   "mimetype": "text/x-python",
   "name": "python",
   "nbconvert_exporter": "python",
   "pygments_lexer": "ipython3",
   "version": "3.11.2"
  }
 },
 "nbformat": 4,
 "nbformat_minor": 4
}
